{
 "cells": [
  {
   "cell_type": "markdown",
   "metadata": {},
   "source": [
    "# Dataset : Student Dropout Dataset\n",
    "### The dataset is from an indian state which contains informaton about students who dropped out and student who continue their study. We will consider dropout as anomly"
   ]
  },
  {
   "cell_type": "markdown",
   "metadata": {},
   "source": [
    "#### 1. Load Libraries"
   ]
  },
  {
   "cell_type": "code",
   "execution_count": 1,
   "metadata": {},
   "outputs": [],
   "source": [
    "import numpy as np # linear algebra\n",
    "import pandas as pd # data processing, CSV file I/O (e.g. pd.read_csv)\n",
    "import matplotlib.pyplot as plt # To plot graphs\n",
    "from sklearn.preprocessing import RobustScaler ## For data scaling\n",
    "from sklearn.model_selection import train_test_split\n",
    "from h2o.estimators.deeplearning import H2OAutoEncoderEstimator\n",
    "import h2o"
   ]
  },
  {
   "cell_type": "markdown",
   "metadata": {},
   "source": [
    "#### 2. Read Dataset"
   ]
  },
  {
   "cell_type": "code",
   "execution_count": 2,
   "metadata": {},
   "outputs": [],
   "source": [
    "student_drop_out=pd.read_csv('studentDropIndia.csv')\n",
    "student_drop_out.head()\n",
    "student_drop_out_orig=student_drop_out"
   ]
  },
  {
   "cell_type": "markdown",
   "metadata": {},
   "source": [
    "#### 3. Understanding data"
   ]
  },
  {
   "cell_type": "code",
   "execution_count": 3,
   "metadata": {},
   "outputs": [
    {
     "data": {
      "text/plain": [
       "continue_drop          object\n",
       "student_id             object\n",
       "gender                 object\n",
       "caste                  object\n",
       "mathematics_marks     float64\n",
       "english_marks         float64\n",
       "science_marks         float64\n",
       "science_teacher         int64\n",
       "languages_teacher       int64\n",
       "guardian               object\n",
       "internet                 bool\n",
       "school_id               int64\n",
       "total_students          int64\n",
       "total_toilets         float64\n",
       "establishment_year    float64\n",
       "dtype: object"
      ]
     },
     "execution_count": 3,
     "metadata": {},
     "output_type": "execute_result"
    }
   ],
   "source": [
    "student_drop_out.dtypes"
   ]
  },
  {
   "cell_type": "code",
   "execution_count": 4,
   "metadata": {},
   "outputs": [
    {
     "data": {
      "text/plain": [
       "(19100, 15)"
      ]
     },
     "execution_count": 4,
     "metadata": {},
     "output_type": "execute_result"
    }
   ],
   "source": [
    "student_drop_out.shape"
   ]
  },
  {
   "cell_type": "markdown",
   "metadata": {},
   "source": [
    "#### 4. Data Preprocessing"
   ]
  },
  {
   "cell_type": "code",
   "execution_count": 5,
   "metadata": {},
   "outputs": [],
   "source": [
    "## list of columns which have NA data:\n",
    "def find_column_na(dataframe,na_limit):\n",
    "    dataframe_null_check = dataframe.isnull()\n",
    "    dataframe_null_check_sum = dataframe_null_check.sum()\n",
    "    columnlist=[]\n",
    "    for i in range(0,len(dataframe_null_check_sum)):\n",
    "        if(dataframe_null_check_sum[i]>na_limit):\n",
    "            print(dataframe_null_check_sum.index[i],dataframe_null_check_sum[i])\n",
    "            columnlist.append(dataframe.columns[i])\n",
    "    return columnlist"
   ]
  },
  {
   "cell_type": "code",
   "execution_count": 6,
   "metadata": {},
   "outputs": [
    {
     "name": "stdout",
     "output_type": "stream",
     "text": [
      "total_toilets 338\n",
      "establishment_year 338\n"
     ]
    }
   ],
   "source": [
    "## As a result, 2 numeric columns have 338 rows with NA data:\n",
    "na_columns = find_column_na(student_drop_out,0)"
   ]
  },
  {
   "cell_type": "code",
   "execution_count": 7,
   "metadata": {},
   "outputs": [],
   "source": [
    "## Since two colmns are total toilets and establishment year.\n",
    "## Replacing with Zero to fill NA rows for these columns:\n",
    "def replaceNumBlankwithZero(dataframe,columns):\n",
    "    data_no_blank = dataframe\n",
    "    for col in columns:\n",
    "            data_no_blank[col].fillna(0, inplace=True)\n",
    "    \n",
    "    return data_no_blank"
   ]
  },
  {
   "cell_type": "code",
   "execution_count": 8,
   "metadata": {},
   "outputs": [
    {
     "data": {
      "text/plain": [
       "continue_drop         False\n",
       "student_id            False\n",
       "gender                False\n",
       "caste                 False\n",
       "mathematics_marks     False\n",
       "english_marks         False\n",
       "science_marks         False\n",
       "science_teacher       False\n",
       "languages_teacher     False\n",
       "guardian              False\n",
       "internet              False\n",
       "school_id             False\n",
       "total_students        False\n",
       "total_toilets         False\n",
       "establishment_year    False\n",
       "dtype: bool"
      ]
     },
     "execution_count": 8,
     "metadata": {},
     "output_type": "execute_result"
    }
   ],
   "source": [
    "student_drop_out_no_na=replaceNumBlankwithZero(student_drop_out,na_columns)\n",
    "student_drop_out_no_na.isnull().any()"
   ]
  },
  {
   "cell_type": "code",
   "execution_count": 9,
   "metadata": {},
   "outputs": [
    {
     "data": {
      "text/html": [
       "<div>\n",
       "<style scoped>\n",
       "    .dataframe tbody tr th:only-of-type {\n",
       "        vertical-align: middle;\n",
       "    }\n",
       "\n",
       "    .dataframe tbody tr th {\n",
       "        vertical-align: top;\n",
       "    }\n",
       "\n",
       "    .dataframe thead th {\n",
       "        text-align: right;\n",
       "    }\n",
       "</style>\n",
       "<table border=\"1\" class=\"dataframe\">\n",
       "  <thead>\n",
       "    <tr style=\"text-align: right;\">\n",
       "      <th></th>\n",
       "      <th>continue_drop</th>\n",
       "      <th>student_id</th>\n",
       "      <th>gender</th>\n",
       "      <th>caste</th>\n",
       "      <th>mathematics_marks</th>\n",
       "      <th>english_marks</th>\n",
       "      <th>science_marks</th>\n",
       "      <th>science_teacher</th>\n",
       "      <th>languages_teacher</th>\n",
       "      <th>guardian</th>\n",
       "      <th>internet</th>\n",
       "      <th>school_id</th>\n",
       "      <th>total_students</th>\n",
       "      <th>total_toilets</th>\n",
       "      <th>establishment_year</th>\n",
       "    </tr>\n",
       "  </thead>\n",
       "  <tbody>\n",
       "    <tr>\n",
       "      <th>12535</th>\n",
       "      <td>drop</td>\n",
       "      <td>s12536</td>\n",
       "      <td>M</td>\n",
       "      <td>SC</td>\n",
       "      <td>0.685</td>\n",
       "      <td>0.662</td>\n",
       "      <td>0.685</td>\n",
       "      <td>4</td>\n",
       "      <td>2</td>\n",
       "      <td>mother</td>\n",
       "      <td>True</td>\n",
       "      <td>361</td>\n",
       "      <td>287</td>\n",
       "      <td>15.0</td>\n",
       "      <td>1992.0</td>\n",
       "    </tr>\n",
       "    <tr>\n",
       "      <th>11284</th>\n",
       "      <td>drop</td>\n",
       "      <td>s11285</td>\n",
       "      <td>M</td>\n",
       "      <td>BC</td>\n",
       "      <td>0.438</td>\n",
       "      <td>0.495</td>\n",
       "      <td>0.438</td>\n",
       "      <td>5</td>\n",
       "      <td>3</td>\n",
       "      <td>mother</td>\n",
       "      <td>True</td>\n",
       "      <td>374</td>\n",
       "      <td>207</td>\n",
       "      <td>28.0</td>\n",
       "      <td>1896.0</td>\n",
       "    </tr>\n",
       "    <tr>\n",
       "      <th>13917</th>\n",
       "      <td>continue</td>\n",
       "      <td>s13918</td>\n",
       "      <td>F</td>\n",
       "      <td>BC</td>\n",
       "      <td>0.523</td>\n",
       "      <td>0.594</td>\n",
       "      <td>0.523</td>\n",
       "      <td>0</td>\n",
       "      <td>7</td>\n",
       "      <td>mother</td>\n",
       "      <td>True</td>\n",
       "      <td>364</td>\n",
       "      <td>147</td>\n",
       "      <td>28.0</td>\n",
       "      <td>1911.0</td>\n",
       "    </tr>\n",
       "    <tr>\n",
       "      <th>7834</th>\n",
       "      <td>continue</td>\n",
       "      <td>s07835</td>\n",
       "      <td>M</td>\n",
       "      <td>BC</td>\n",
       "      <td>0.730</td>\n",
       "      <td>0.502</td>\n",
       "      <td>0.730</td>\n",
       "      <td>6</td>\n",
       "      <td>3</td>\n",
       "      <td>mother</td>\n",
       "      <td>False</td>\n",
       "      <td>334</td>\n",
       "      <td>571</td>\n",
       "      <td>61.0</td>\n",
       "      <td>1924.0</td>\n",
       "    </tr>\n",
       "    <tr>\n",
       "      <th>742</th>\n",
       "      <td>continue</td>\n",
       "      <td>s00743</td>\n",
       "      <td>F</td>\n",
       "      <td>BC</td>\n",
       "      <td>0.461</td>\n",
       "      <td>0.379</td>\n",
       "      <td>0.461</td>\n",
       "      <td>6</td>\n",
       "      <td>6</td>\n",
       "      <td>father</td>\n",
       "      <td>False</td>\n",
       "      <td>331</td>\n",
       "      <td>516</td>\n",
       "      <td>15.0</td>\n",
       "      <td>1996.0</td>\n",
       "    </tr>\n",
       "    <tr>\n",
       "      <th>1877</th>\n",
       "      <td>continue</td>\n",
       "      <td>s01878</td>\n",
       "      <td>F</td>\n",
       "      <td>SC</td>\n",
       "      <td>0.766</td>\n",
       "      <td>0.647</td>\n",
       "      <td>0.766</td>\n",
       "      <td>2</td>\n",
       "      <td>4</td>\n",
       "      <td>mother</td>\n",
       "      <td>True</td>\n",
       "      <td>324</td>\n",
       "      <td>170</td>\n",
       "      <td>31.0</td>\n",
       "      <td>1949.0</td>\n",
       "    </tr>\n",
       "    <tr>\n",
       "      <th>16613</th>\n",
       "      <td>continue</td>\n",
       "      <td>s16614</td>\n",
       "      <td>M</td>\n",
       "      <td>BC</td>\n",
       "      <td>0.562</td>\n",
       "      <td>0.530</td>\n",
       "      <td>0.562</td>\n",
       "      <td>8</td>\n",
       "      <td>5</td>\n",
       "      <td>father</td>\n",
       "      <td>True</td>\n",
       "      <td>327</td>\n",
       "      <td>251</td>\n",
       "      <td>18.0</td>\n",
       "      <td>1984.0</td>\n",
       "    </tr>\n",
       "    <tr>\n",
       "      <th>13106</th>\n",
       "      <td>continue</td>\n",
       "      <td>s13107</td>\n",
       "      <td>F</td>\n",
       "      <td>SC</td>\n",
       "      <td>0.684</td>\n",
       "      <td>0.848</td>\n",
       "      <td>0.684</td>\n",
       "      <td>8</td>\n",
       "      <td>6</td>\n",
       "      <td>father</td>\n",
       "      <td>True</td>\n",
       "      <td>362</td>\n",
       "      <td>397</td>\n",
       "      <td>5.0</td>\n",
       "      <td>1950.0</td>\n",
       "    </tr>\n",
       "    <tr>\n",
       "      <th>10758</th>\n",
       "      <td>continue</td>\n",
       "      <td>s10759</td>\n",
       "      <td>F</td>\n",
       "      <td>SC</td>\n",
       "      <td>0.417</td>\n",
       "      <td>0.535</td>\n",
       "      <td>0.417</td>\n",
       "      <td>3</td>\n",
       "      <td>7</td>\n",
       "      <td>father</td>\n",
       "      <td>False</td>\n",
       "      <td>343</td>\n",
       "      <td>353</td>\n",
       "      <td>15.0</td>\n",
       "      <td>1957.0</td>\n",
       "    </tr>\n",
       "    <tr>\n",
       "      <th>2556</th>\n",
       "      <td>continue</td>\n",
       "      <td>s02557</td>\n",
       "      <td>M</td>\n",
       "      <td>BC</td>\n",
       "      <td>0.558</td>\n",
       "      <td>0.573</td>\n",
       "      <td>0.558</td>\n",
       "      <td>1</td>\n",
       "      <td>4</td>\n",
       "      <td>mother</td>\n",
       "      <td>True</td>\n",
       "      <td>323</td>\n",
       "      <td>344</td>\n",
       "      <td>28.0</td>\n",
       "      <td>1961.0</td>\n",
       "    </tr>\n",
       "  </tbody>\n",
       "</table>\n",
       "</div>"
      ],
      "text/plain": [
       "      continue_drop student_id gender caste  mathematics_marks  english_marks  \\\n",
       "12535          drop     s12536      M    SC              0.685          0.662   \n",
       "11284          drop     s11285      M    BC              0.438          0.495   \n",
       "13917      continue     s13918      F    BC              0.523          0.594   \n",
       "7834       continue     s07835      M    BC              0.730          0.502   \n",
       "742        continue     s00743      F    BC              0.461          0.379   \n",
       "1877       continue     s01878      F    SC              0.766          0.647   \n",
       "16613      continue     s16614      M    BC              0.562          0.530   \n",
       "13106      continue     s13107      F    SC              0.684          0.848   \n",
       "10758      continue     s10759      F    SC              0.417          0.535   \n",
       "2556       continue     s02557      M    BC              0.558          0.573   \n",
       "\n",
       "       science_marks  science_teacher  languages_teacher guardian  internet  \\\n",
       "12535          0.685                4                  2   mother      True   \n",
       "11284          0.438                5                  3   mother      True   \n",
       "13917          0.523                0                  7   mother      True   \n",
       "7834           0.730                6                  3   mother     False   \n",
       "742            0.461                6                  6   father     False   \n",
       "1877           0.766                2                  4   mother      True   \n",
       "16613          0.562                8                  5   father      True   \n",
       "13106          0.684                8                  6   father      True   \n",
       "10758          0.417                3                  7   father     False   \n",
       "2556           0.558                1                  4   mother      True   \n",
       "\n",
       "       school_id  total_students  total_toilets  establishment_year  \n",
       "12535        361             287           15.0              1992.0  \n",
       "11284        374             207           28.0              1896.0  \n",
       "13917        364             147           28.0              1911.0  \n",
       "7834         334             571           61.0              1924.0  \n",
       "742          331             516           15.0              1996.0  \n",
       "1877         324             170           31.0              1949.0  \n",
       "16613        327             251           18.0              1984.0  \n",
       "13106        362             397            5.0              1950.0  \n",
       "10758        343             353           15.0              1957.0  \n",
       "2556         323             344           28.0              1961.0  "
      ]
     },
     "execution_count": 9,
     "metadata": {},
     "output_type": "execute_result"
    }
   ],
   "source": [
    "## Extract sample from data:\n",
    "student_drop_out_no_na.sample(10)"
   ]
  },
  {
   "cell_type": "code",
   "execution_count": 10,
   "metadata": {},
   "outputs": [
    {
     "data": {
      "text/plain": [
       "numpy.ndarray"
      ]
     },
     "execution_count": 10,
     "metadata": {},
     "output_type": "execute_result"
    }
   ],
   "source": [
    "## Standardizing numberic data with multiple scale range:\n",
    "def find_numerical_col(dataframe):\n",
    "    columnlist_num=[]\n",
    "    #fig =  plt.figure(figsize=(10,10))\n",
    "    for i in range(1,len(dataframe.columns)):\n",
    "           if dataframe[dataframe.columns[i]].dtypes=='int64' or dataframe[dataframe.columns[i]].dtypes=='float64':\n",
    "                    columnlist_num.append(dataframe.columns[i])\n",
    "    return columnlist_num\n",
    "\n",
    "def do_robustScaler(X):\n",
    "    robust=RobustScaler()\n",
    "    X_robust = robust.fit_transform(X)\n",
    "    return X_robust\n",
    "\n",
    "num_columns = find_numerical_col(student_drop_out_no_na)\n",
    "student_drop_out_no_na_num_col=student_drop_out_no_na[num_columns]\n",
    "# Let run robus scale function now to scale our numneric data\n",
    "student_drop_out_no_na_num_col_scaled = do_robustScaler(student_drop_out_no_na_num_col)\n",
    "# Return data is numpy array\n",
    "type(student_drop_out_no_na_num_col_scaled)"
   ]
  },
  {
   "cell_type": "markdown",
   "metadata": {},
   "source": [
    "#### 5. String conversion to Numeric data for H20 Encoder"
   ]
  },
  {
   "cell_type": "code",
   "execution_count": 11,
   "metadata": {},
   "outputs": [],
   "source": [
    "## firstly, drop the student id column\n",
    "student_drop_out_no_na = student_drop_out_no_na.drop('student_id', 1)"
   ]
  },
  {
   "cell_type": "code",
   "execution_count": 12,
   "metadata": {},
   "outputs": [],
   "source": [
    "## Find categorical columns\n",
    "def find_categ_column(dataframe):\n",
    "    return dataframe.select_dtypes(exclude=[\"number\",\"bool_\"]).columns"
   ]
  },
  {
   "cell_type": "code",
   "execution_count": 13,
   "metadata": {},
   "outputs": [
    {
     "data": {
      "text/html": [
       "<div>\n",
       "<style scoped>\n",
       "    .dataframe tbody tr th:only-of-type {\n",
       "        vertical-align: middle;\n",
       "    }\n",
       "\n",
       "    .dataframe tbody tr th {\n",
       "        vertical-align: top;\n",
       "    }\n",
       "\n",
       "    .dataframe thead th {\n",
       "        text-align: right;\n",
       "    }\n",
       "</style>\n",
       "<table border=\"1\" class=\"dataframe\">\n",
       "  <thead>\n",
       "    <tr style=\"text-align: right;\">\n",
       "      <th></th>\n",
       "      <th>continue_drop_continue</th>\n",
       "      <th>continue_drop_drop</th>\n",
       "      <th>gender_F</th>\n",
       "      <th>gender_M</th>\n",
       "      <th>caste_BC</th>\n",
       "      <th>caste_OC</th>\n",
       "      <th>caste_SC</th>\n",
       "      <th>caste_ST</th>\n",
       "      <th>guardian_father</th>\n",
       "      <th>guardian_mixed</th>\n",
       "      <th>guardian_mother</th>\n",
       "      <th>guardian_other</th>\n",
       "    </tr>\n",
       "  </thead>\n",
       "  <tbody>\n",
       "    <tr>\n",
       "      <th>0</th>\n",
       "      <td>1</td>\n",
       "      <td>0</td>\n",
       "      <td>1</td>\n",
       "      <td>0</td>\n",
       "      <td>0</td>\n",
       "      <td>0</td>\n",
       "      <td>1</td>\n",
       "      <td>0</td>\n",
       "      <td>0</td>\n",
       "      <td>0</td>\n",
       "      <td>1</td>\n",
       "      <td>0</td>\n",
       "    </tr>\n",
       "    <tr>\n",
       "      <th>1</th>\n",
       "      <td>1</td>\n",
       "      <td>0</td>\n",
       "      <td>1</td>\n",
       "      <td>0</td>\n",
       "      <td>1</td>\n",
       "      <td>0</td>\n",
       "      <td>0</td>\n",
       "      <td>0</td>\n",
       "      <td>0</td>\n",
       "      <td>0</td>\n",
       "      <td>1</td>\n",
       "      <td>0</td>\n",
       "    </tr>\n",
       "    <tr>\n",
       "      <th>2</th>\n",
       "      <td>1</td>\n",
       "      <td>0</td>\n",
       "      <td>1</td>\n",
       "      <td>0</td>\n",
       "      <td>0</td>\n",
       "      <td>1</td>\n",
       "      <td>0</td>\n",
       "      <td>0</td>\n",
       "      <td>0</td>\n",
       "      <td>0</td>\n",
       "      <td>1</td>\n",
       "      <td>0</td>\n",
       "    </tr>\n",
       "    <tr>\n",
       "      <th>3</th>\n",
       "      <td>1</td>\n",
       "      <td>0</td>\n",
       "      <td>1</td>\n",
       "      <td>0</td>\n",
       "      <td>1</td>\n",
       "      <td>0</td>\n",
       "      <td>0</td>\n",
       "      <td>0</td>\n",
       "      <td>0</td>\n",
       "      <td>0</td>\n",
       "      <td>1</td>\n",
       "      <td>0</td>\n",
       "    </tr>\n",
       "    <tr>\n",
       "      <th>4</th>\n",
       "      <td>1</td>\n",
       "      <td>0</td>\n",
       "      <td>1</td>\n",
       "      <td>0</td>\n",
       "      <td>0</td>\n",
       "      <td>1</td>\n",
       "      <td>0</td>\n",
       "      <td>0</td>\n",
       "      <td>0</td>\n",
       "      <td>0</td>\n",
       "      <td>0</td>\n",
       "      <td>1</td>\n",
       "    </tr>\n",
       "  </tbody>\n",
       "</table>\n",
       "</div>"
      ],
      "text/plain": [
       "   continue_drop_continue  continue_drop_drop  gender_F  gender_M  caste_BC  \\\n",
       "0                       1                   0         1         0         0   \n",
       "1                       1                   0         1         0         1   \n",
       "2                       1                   0         1         0         0   \n",
       "3                       1                   0         1         0         1   \n",
       "4                       1                   0         1         0         0   \n",
       "\n",
       "   caste_OC  caste_SC  caste_ST  guardian_father  guardian_mixed  \\\n",
       "0         0         1         0                0               0   \n",
       "1         0         0         0                0               0   \n",
       "2         1         0         0                0               0   \n",
       "3         0         0         0                0               0   \n",
       "4         1         0         0                0               0   \n",
       "\n",
       "   guardian_mother  guardian_other  \n",
       "0                1               0  \n",
       "1                1               0  \n",
       "2                1               0  \n",
       "3                1               0  \n",
       "4                0               1  "
      ]
     },
     "execution_count": 13,
     "metadata": {},
     "output_type": "execute_result"
    }
   ],
   "source": [
    "## five columns with string data types\n",
    "cat_columns = find_categ_column(student_drop_out_no_na)\n",
    "\n",
    "## Run getDummies function to encode categorical data\n",
    "student_drop_out_no_na_dummy = pd.get_dummies(student_drop_out_no_na[cat_columns],columns = cat_columns)\n",
    "student_drop_out_no_na_dummy.head()"
   ]
  },
  {
   "cell_type": "code",
   "execution_count": 14,
   "metadata": {},
   "outputs": [
    {
     "data": {
      "text/html": [
       "<div>\n",
       "<style scoped>\n",
       "    .dataframe tbody tr th:only-of-type {\n",
       "        vertical-align: middle;\n",
       "    }\n",
       "\n",
       "    .dataframe tbody tr th {\n",
       "        vertical-align: top;\n",
       "    }\n",
       "\n",
       "    .dataframe thead th {\n",
       "        text-align: right;\n",
       "    }\n",
       "</style>\n",
       "<table border=\"1\" class=\"dataframe\">\n",
       "  <thead>\n",
       "    <tr style=\"text-align: right;\">\n",
       "      <th></th>\n",
       "      <th>mathematics_marks</th>\n",
       "      <th>english_marks</th>\n",
       "      <th>science_marks</th>\n",
       "      <th>science_teacher</th>\n",
       "      <th>languages_teacher</th>\n",
       "      <th>school_id</th>\n",
       "      <th>total_students</th>\n",
       "      <th>total_toilets</th>\n",
       "      <th>establishment_year</th>\n",
       "    </tr>\n",
       "  </thead>\n",
       "  <tbody>\n",
       "    <tr>\n",
       "      <th>0</th>\n",
       "      <td>-0.352159</td>\n",
       "      <td>-0.209677</td>\n",
       "      <td>-0.352159</td>\n",
       "      <td>0.50</td>\n",
       "      <td>-1.25</td>\n",
       "      <td>-0.790698</td>\n",
       "      <td>0.000000</td>\n",
       "      <td>0.928571</td>\n",
       "      <td>0.967213</td>\n",
       "    </tr>\n",
       "    <tr>\n",
       "      <th>1</th>\n",
       "      <td>-0.747508</td>\n",
       "      <td>-0.218894</td>\n",
       "      <td>-0.747508</td>\n",
       "      <td>0.00</td>\n",
       "      <td>0.50</td>\n",
       "      <td>-0.372093</td>\n",
       "      <td>0.454106</td>\n",
       "      <td>-0.071429</td>\n",
       "      <td>0.278689</td>\n",
       "    </tr>\n",
       "    <tr>\n",
       "      <th>2</th>\n",
       "      <td>0.289037</td>\n",
       "      <td>0.490783</td>\n",
       "      <td>0.289037</td>\n",
       "      <td>0.00</td>\n",
       "      <td>-0.75</td>\n",
       "      <td>-0.511628</td>\n",
       "      <td>-0.400966</td>\n",
       "      <td>-0.500000</td>\n",
       "      <td>0.475410</td>\n",
       "    </tr>\n",
       "    <tr>\n",
       "      <th>3</th>\n",
       "      <td>-0.455150</td>\n",
       "      <td>-0.154378</td>\n",
       "      <td>-0.455150</td>\n",
       "      <td>1.00</td>\n",
       "      <td>0.50</td>\n",
       "      <td>-0.906977</td>\n",
       "      <td>0.444444</td>\n",
       "      <td>5.071429</td>\n",
       "      <td>0.983607</td>\n",
       "    </tr>\n",
       "    <tr>\n",
       "      <th>4</th>\n",
       "      <td>0.069767</td>\n",
       "      <td>0.251152</td>\n",
       "      <td>0.069767</td>\n",
       "      <td>1.25</td>\n",
       "      <td>-0.25</td>\n",
       "      <td>0.372093</td>\n",
       "      <td>0.053140</td>\n",
       "      <td>-0.928571</td>\n",
       "      <td>1.131148</td>\n",
       "    </tr>\n",
       "  </tbody>\n",
       "</table>\n",
       "</div>"
      ],
      "text/plain": [
       "   mathematics_marks  english_marks  science_marks  science_teacher  \\\n",
       "0          -0.352159      -0.209677      -0.352159             0.50   \n",
       "1          -0.747508      -0.218894      -0.747508             0.00   \n",
       "2           0.289037       0.490783       0.289037             0.00   \n",
       "3          -0.455150      -0.154378      -0.455150             1.00   \n",
       "4           0.069767       0.251152       0.069767             1.25   \n",
       "\n",
       "   languages_teacher  school_id  total_students  total_toilets  \\\n",
       "0              -1.25  -0.790698        0.000000       0.928571   \n",
       "1               0.50  -0.372093        0.454106      -0.071429   \n",
       "2              -0.75  -0.511628       -0.400966      -0.500000   \n",
       "3               0.50  -0.906977        0.444444       5.071429   \n",
       "4              -0.25   0.372093        0.053140      -0.928571   \n",
       "\n",
       "   establishment_year  \n",
       "0            0.967213  \n",
       "1            0.278689  \n",
       "2            0.475410  \n",
       "3            0.983607  \n",
       "4            1.131148  "
      ]
     },
     "execution_count": 14,
     "metadata": {},
     "output_type": "execute_result"
    }
   ],
   "source": [
    "## Convert scaled numpy numeric array to panda dataframe.\n",
    "## Later, join it with encoded categorical dataframe:\n",
    "scaled_data_df=pd.DataFrame(student_drop_out_no_na_num_col_scaled, columns=num_columns) \n",
    "scaled_data_df.head()"
   ]
  },
  {
   "cell_type": "code",
   "execution_count": 15,
   "metadata": {},
   "outputs": [
    {
     "data": {
      "text/html": [
       "<div>\n",
       "<style scoped>\n",
       "    .dataframe tbody tr th:only-of-type {\n",
       "        vertical-align: middle;\n",
       "    }\n",
       "\n",
       "    .dataframe tbody tr th {\n",
       "        vertical-align: top;\n",
       "    }\n",
       "\n",
       "    .dataframe thead th {\n",
       "        text-align: right;\n",
       "    }\n",
       "</style>\n",
       "<table border=\"1\" class=\"dataframe\">\n",
       "  <thead>\n",
       "    <tr style=\"text-align: right;\">\n",
       "      <th></th>\n",
       "      <th>mathematics_marks</th>\n",
       "      <th>english_marks</th>\n",
       "      <th>science_marks</th>\n",
       "      <th>science_teacher</th>\n",
       "      <th>languages_teacher</th>\n",
       "      <th>school_id</th>\n",
       "      <th>total_students</th>\n",
       "      <th>total_toilets</th>\n",
       "      <th>establishment_year</th>\n",
       "      <th>continue_drop_continue</th>\n",
       "      <th>...</th>\n",
       "      <th>gender_F</th>\n",
       "      <th>gender_M</th>\n",
       "      <th>caste_BC</th>\n",
       "      <th>caste_OC</th>\n",
       "      <th>caste_SC</th>\n",
       "      <th>caste_ST</th>\n",
       "      <th>guardian_father</th>\n",
       "      <th>guardian_mixed</th>\n",
       "      <th>guardian_mother</th>\n",
       "      <th>guardian_other</th>\n",
       "    </tr>\n",
       "  </thead>\n",
       "  <tbody>\n",
       "    <tr>\n",
       "      <th>0</th>\n",
       "      <td>-0.352159</td>\n",
       "      <td>-0.209677</td>\n",
       "      <td>-0.352159</td>\n",
       "      <td>0.50</td>\n",
       "      <td>-1.25</td>\n",
       "      <td>-0.790698</td>\n",
       "      <td>0.000000</td>\n",
       "      <td>0.928571</td>\n",
       "      <td>0.967213</td>\n",
       "      <td>1</td>\n",
       "      <td>...</td>\n",
       "      <td>1</td>\n",
       "      <td>0</td>\n",
       "      <td>0</td>\n",
       "      <td>0</td>\n",
       "      <td>1</td>\n",
       "      <td>0</td>\n",
       "      <td>0</td>\n",
       "      <td>0</td>\n",
       "      <td>1</td>\n",
       "      <td>0</td>\n",
       "    </tr>\n",
       "    <tr>\n",
       "      <th>1</th>\n",
       "      <td>-0.747508</td>\n",
       "      <td>-0.218894</td>\n",
       "      <td>-0.747508</td>\n",
       "      <td>0.00</td>\n",
       "      <td>0.50</td>\n",
       "      <td>-0.372093</td>\n",
       "      <td>0.454106</td>\n",
       "      <td>-0.071429</td>\n",
       "      <td>0.278689</td>\n",
       "      <td>1</td>\n",
       "      <td>...</td>\n",
       "      <td>1</td>\n",
       "      <td>0</td>\n",
       "      <td>1</td>\n",
       "      <td>0</td>\n",
       "      <td>0</td>\n",
       "      <td>0</td>\n",
       "      <td>0</td>\n",
       "      <td>0</td>\n",
       "      <td>1</td>\n",
       "      <td>0</td>\n",
       "    </tr>\n",
       "    <tr>\n",
       "      <th>2</th>\n",
       "      <td>0.289037</td>\n",
       "      <td>0.490783</td>\n",
       "      <td>0.289037</td>\n",
       "      <td>0.00</td>\n",
       "      <td>-0.75</td>\n",
       "      <td>-0.511628</td>\n",
       "      <td>-0.400966</td>\n",
       "      <td>-0.500000</td>\n",
       "      <td>0.475410</td>\n",
       "      <td>1</td>\n",
       "      <td>...</td>\n",
       "      <td>1</td>\n",
       "      <td>0</td>\n",
       "      <td>0</td>\n",
       "      <td>1</td>\n",
       "      <td>0</td>\n",
       "      <td>0</td>\n",
       "      <td>0</td>\n",
       "      <td>0</td>\n",
       "      <td>1</td>\n",
       "      <td>0</td>\n",
       "    </tr>\n",
       "    <tr>\n",
       "      <th>3</th>\n",
       "      <td>-0.455150</td>\n",
       "      <td>-0.154378</td>\n",
       "      <td>-0.455150</td>\n",
       "      <td>1.00</td>\n",
       "      <td>0.50</td>\n",
       "      <td>-0.906977</td>\n",
       "      <td>0.444444</td>\n",
       "      <td>5.071429</td>\n",
       "      <td>0.983607</td>\n",
       "      <td>1</td>\n",
       "      <td>...</td>\n",
       "      <td>1</td>\n",
       "      <td>0</td>\n",
       "      <td>1</td>\n",
       "      <td>0</td>\n",
       "      <td>0</td>\n",
       "      <td>0</td>\n",
       "      <td>0</td>\n",
       "      <td>0</td>\n",
       "      <td>1</td>\n",
       "      <td>0</td>\n",
       "    </tr>\n",
       "    <tr>\n",
       "      <th>4</th>\n",
       "      <td>0.069767</td>\n",
       "      <td>0.251152</td>\n",
       "      <td>0.069767</td>\n",
       "      <td>1.25</td>\n",
       "      <td>-0.25</td>\n",
       "      <td>0.372093</td>\n",
       "      <td>0.053140</td>\n",
       "      <td>-0.928571</td>\n",
       "      <td>1.131148</td>\n",
       "      <td>1</td>\n",
       "      <td>...</td>\n",
       "      <td>1</td>\n",
       "      <td>0</td>\n",
       "      <td>0</td>\n",
       "      <td>1</td>\n",
       "      <td>0</td>\n",
       "      <td>0</td>\n",
       "      <td>0</td>\n",
       "      <td>0</td>\n",
       "      <td>0</td>\n",
       "      <td>1</td>\n",
       "    </tr>\n",
       "  </tbody>\n",
       "</table>\n",
       "<p>5 rows × 21 columns</p>\n",
       "</div>"
      ],
      "text/plain": [
       "   mathematics_marks  english_marks  science_marks  science_teacher  \\\n",
       "0          -0.352159      -0.209677      -0.352159             0.50   \n",
       "1          -0.747508      -0.218894      -0.747508             0.00   \n",
       "2           0.289037       0.490783       0.289037             0.00   \n",
       "3          -0.455150      -0.154378      -0.455150             1.00   \n",
       "4           0.069767       0.251152       0.069767             1.25   \n",
       "\n",
       "   languages_teacher  school_id  total_students  total_toilets  \\\n",
       "0              -1.25  -0.790698        0.000000       0.928571   \n",
       "1               0.50  -0.372093        0.454106      -0.071429   \n",
       "2              -0.75  -0.511628       -0.400966      -0.500000   \n",
       "3               0.50  -0.906977        0.444444       5.071429   \n",
       "4              -0.25   0.372093        0.053140      -0.928571   \n",
       "\n",
       "   establishment_year  continue_drop_continue  ...  gender_F  gender_M  \\\n",
       "0            0.967213                       1  ...         1         0   \n",
       "1            0.278689                       1  ...         1         0   \n",
       "2            0.475410                       1  ...         1         0   \n",
       "3            0.983607                       1  ...         1         0   \n",
       "4            1.131148                       1  ...         1         0   \n",
       "\n",
       "   caste_BC  caste_OC  caste_SC  caste_ST  guardian_father  guardian_mixed  \\\n",
       "0         0         0         1         0                0               0   \n",
       "1         1         0         0         0                0               0   \n",
       "2         0         1         0         0                0               0   \n",
       "3         1         0         0         0                0               0   \n",
       "4         0         1         0         0                0               0   \n",
       "\n",
       "   guardian_mother  guardian_other  \n",
       "0                1               0  \n",
       "1                1               0  \n",
       "2                1               0  \n",
       "3                1               0  \n",
       "4                0               1  \n",
       "\n",
       "[5 rows x 21 columns]"
      ]
     },
     "execution_count": 15,
     "metadata": {},
     "output_type": "execute_result"
    }
   ],
   "source": [
    "## join 2 data frame horizentally\n",
    "X = pd.concat([scaled_data_df,student_drop_out_no_na_dummy],axis=1)\n",
    "X.head()"
   ]
  },
  {
   "cell_type": "markdown",
   "metadata": {},
   "source": [
    "#### 6. Split the dataset into training and test\n",
    "###### Since all \"dropouts\" are being considered as anomly, keep all drop outs in test dataset along with 20% of \"continue\" dataset as test"
   ]
  },
  {
   "cell_type": "code",
   "execution_count": 17,
   "metadata": {},
   "outputs": [
    {
     "name": "stdout",
     "output_type": "stream",
     "text": [
      "Total number of Rows in data set\n",
      "19100\n",
      "Total number of Rows for non anomly data set\n",
      "18200\n",
      "Total number of Rows for non anomly train data set\n",
      "14560\n",
      "Total number of Rows for non anomly test data set\n",
      "3640\n",
      "Total number of Rows for anomly data set\n",
      "900\n"
     ]
    }
   ],
   "source": [
    "print(\"Total number of Rows in data set\")\n",
    "print(X.shape[0])\n",
    "\n",
    "X_nonanomly=X.loc[X['continue_drop_continue'] == 1]\n",
    "print(\"Total number of Rows for non anomly data set\")\n",
    "print(X_nonanomly.shape[0])\n",
    "\n",
    "Xtrain, Xtest = train_test_split(X_nonanomly,test_size=0.2)\n",
    "print(\"Total number of Rows for non anomly train data set\")\n",
    "print(Xtrain.shape[0])\n",
    "print(\"Total number of Rows for non anomly test data set\")\n",
    "print(Xtest.shape[0])\n",
    "\n",
    "print(\"Total number of Rows for anomly data set\")\n",
    "test_anomly=X.loc[X['continue_drop_drop'] == 1]\n",
    "print(test_anomly.shape[0])"
   ]
  },
  {
   "cell_type": "code",
   "execution_count": 18,
   "metadata": {},
   "outputs": [
    {
     "name": "stdout",
     "output_type": "stream",
     "text": [
      "Total number of Rows for non anomly test data set and anomly test datset\n",
      "4540\n"
     ]
    }
   ],
   "source": [
    "## So this will give us Test data set and we will detect anomly in our test data set using H2O encoder\n",
    "print(\"Total number of Rows for non anomly test data set and anomly test datset\")\n",
    "Xtest_anom=pd.concat([Xtest,test_anomly],axis=0)\n",
    "print(Xtest_anom.shape[0])"
   ]
  },
  {
   "cell_type": "markdown",
   "metadata": {},
   "source": [
    "#### 7.  visualize the anomly before we proceed to create the model to identify it"
   ]
  },
  {
   "cell_type": "code",
   "execution_count": 19,
   "metadata": {},
   "outputs": [
    {
     "data": {
      "image/png": "[encoded data removed]",
      "text/plain": [
       "<Figure size 504x504 with 1 Axes>"
      ]
     },
     "metadata": {},
     "output_type": "display_data"
    }
   ],
   "source": [
    "labels = ['continue', 'dropout']\n",
    "sizes = [student_drop_out_no_na['continue_drop'].value_counts()['continue'],\n",
    "         student_drop_out_no_na['continue_drop'].value_counts()['drop']\n",
    "        ]\n",
    "colors = ['gold','lightcoral']\n",
    "explode = (0, 0.1)  # explode 1st slice\n",
    "plt.figure(figsize=[7, 7])\n",
    "plt.pie(sizes, explode=explode, labels=labels, colors=colors, autopct='%1.1f%%', shadow=True, startangle=70)\n",
    "plt.title(\"Continue vs Dropout %\",fontsize=20)\n",
    "plt.axis('equal')\n",
    "plt.show()"
   ]
  },
  {
   "cell_type": "markdown",
   "metadata": {},
   "source": [
    "#### 8. Autoencoder and H20 Modelling"
   ]
  },
  {
   "cell_type": "code",
   "execution_count": 20,
   "metadata": {},
   "outputs": [
    {
     "name": "stdout",
     "output_type": "stream",
     "text": [
      "Checking whether there is an H2O instance running at http://localhost:54321 ..... not found.\n",
      "Attempting to start a local H2O server...\n",
      "; Java HotSpot(TM) 64-Bit Server VM (build 13.0.2+8, mixed mode, sharing)\n",
      "  Starting server from C:\\Users\\shubhangi\\anaconda3\\lib\\site-packages\\h2o\\backend\\bin\\h2o.jar\n",
      "  Ice root: C:\\Users\\shubhangi\\AppData\\Local\\Temp\\2\\tmpfjqv19zi\n",
      "  JVM stdout: C:\\Users\\shubhangi\\AppData\\Local\\Temp\\2\\tmpfjqv19zi\\h2o_shubhangi_started_from_python.out\n",
      "  JVM stderr: C:\\Users\\shubhangi\\AppData\\Local\\Temp\\2\\tmpfjqv19zi\\h2o_shubhangi_started_from_python.err\n",
      "  Server is running at http://127.0.0.1:54321\n",
      "Connecting to H2O server at http://127.0.0.1:54321 ... successful.\n"
     ]
    },
    {
     "data": {
      "text/html": [
       "<div style=\"overflow:auto\"><table style=\"width:50%\"><tr><td>H2O_cluster_uptime:</td>\n",
       "<td>13 secs</td></tr>\n",
       "<tr><td>H2O_cluster_timezone:</td>\n",
       "<td>Etc/GMT</td></tr>\n",
       "<tr><td>H2O_data_parsing_timezone:</td>\n",
       "<td>UTC</td></tr>\n",
       "<tr><td>H2O_cluster_version:</td>\n",
       "<td>3.30.0.2</td></tr>\n",
       "<tr><td>H2O_cluster_version_age:</td>\n",
       "<td>1 month and 19 days </td></tr>\n",
       "<tr><td>H2O_cluster_name:</td>\n",
       "<td>H2O_from_python_shubhangi_vf2pnb</td></tr>\n",
       "<tr><td>H2O_cluster_total_nodes:</td>\n",
       "<td>1</td></tr>\n",
       "<tr><td>H2O_cluster_free_memory:</td>\n",
       "<td>4 Gb</td></tr>\n",
       "<tr><td>H2O_cluster_total_cores:</td>\n",
       "<td>4</td></tr>\n",
       "<tr><td>H2O_cluster_allowed_cores:</td>\n",
       "<td>4</td></tr>\n",
       "<tr><td>H2O_cluster_status:</td>\n",
       "<td>accepting new members, healthy</td></tr>\n",
       "<tr><td>H2O_connection_url:</td>\n",
       "<td>http://127.0.0.1:54321</td></tr>\n",
       "<tr><td>H2O_connection_proxy:</td>\n",
       "<td>{\"http\": null, \"https\": null}</td></tr>\n",
       "<tr><td>H2O_internal_security:</td>\n",
       "<td>False</td></tr>\n",
       "<tr><td>H2O_API_Extensions:</td>\n",
       "<td>Amazon S3, Algos, AutoML, Core V3, TargetEncoder, Core V4</td></tr>\n",
       "<tr><td>Python_version:</td>\n",
       "<td>3.7.6 final</td></tr></table></div>"
      ],
      "text/plain": [
       "--------------------------  ---------------------------------------------------------\n",
       "H2O_cluster_uptime:         13 secs\n",
       "H2O_cluster_timezone:       Etc/GMT\n",
       "H2O_data_parsing_timezone:  UTC\n",
       "H2O_cluster_version:        3.30.0.2\n",
       "H2O_cluster_version_age:    1 month and 19 days\n",
       "H2O_cluster_name:           H2O_from_python_shubhangi_vf2pnb\n",
       "H2O_cluster_total_nodes:    1\n",
       "H2O_cluster_free_memory:    4 Gb\n",
       "H2O_cluster_total_cores:    4\n",
       "H2O_cluster_allowed_cores:  4\n",
       "H2O_cluster_status:         accepting new members, healthy\n",
       "H2O_connection_url:         http://127.0.0.1:54321\n",
       "H2O_connection_proxy:       {\"http\": null, \"https\": null}\n",
       "H2O_internal_security:      False\n",
       "H2O_API_Extensions:         Amazon S3, Algos, AutoML, Core V3, TargetEncoder, Core V4\n",
       "Python_version:             3.7.6 final\n",
       "--------------------------  ---------------------------------------------------------"
      ]
     },
     "metadata": {},
     "output_type": "display_data"
    }
   ],
   "source": [
    "## Initiate H20 Encoder:\n",
    "h2o.init(nthreads=-1, enable_assertions = False)"
   ]
  },
  {
   "cell_type": "code",
   "execution_count": 21,
   "metadata": {},
   "outputs": [
    {
     "name": "stdout",
     "output_type": "stream",
     "text": [
      "Parse progress: |█████████████████████████████████████████████████████████| 100%\n",
      "Parse progress: |█████████████████████████████████████████████████████████| 100%\n"
     ]
    }
   ],
   "source": [
    "## convert panda dataframe to H2O dataframe\n",
    "h2odf_train=h2o.H2OFrame(Xtrain)\n",
    "h2odf_test=h2o.H2OFrame(Xtest_anom)"
   ]
  },
  {
   "cell_type": "markdown",
   "metadata": {},
   "source": [
    "###### use \"Tanh\" as a activation function with hidden layer neural network 15-->(5-->3-->5)-->15"
   ]
  },
  {
   "cell_type": "code",
   "execution_count": 22,
   "metadata": {},
   "outputs": [
    {
     "name": "stdout",
     "output_type": "stream",
     "text": [
      "deeplearning Model Build progress: |████████████████████████████████████████| 100%\n"
     ]
    }
   ],
   "source": [
    "## Configuring \"Tanh\" as a activation function with hidden layer neural network 15-->(5-->3-->5)-->15:\n",
    "anomly_model = H2OAutoEncoderEstimator(activation=\"Tanh\", \n",
    "                                hidden=[5,3,5], \n",
    "                                model_id=\"anomly_model\",\n",
    "                                ignore_const_cols=False, \n",
    "                                autoencoder=True,\n",
    "                                epochs=100)\n",
    "\n",
    "## List of predictors:\n",
    "predictors=list(range(0,14))\n",
    "\n",
    "## training Anomaly model:\n",
    "anomly_model.train(x=predictors,training_frame=h2odf_train)"
   ]
  },
  {
   "cell_type": "markdown",
   "metadata": {},
   "source": [
    "######  use anomly detection model on our test dataset and we will convert that dataset to dataframe.Then we will add one more column to our dataframe \"id\", so then we will get two columns \"id\" and \"Reconstruction.MSE\""
   ]
  },
  {
   "cell_type": "code",
   "execution_count": 23,
   "metadata": {},
   "outputs": [],
   "source": [
    "## Configure anomly detection model on our test dataset and we will convert that dataset to dataframe.Then we will add one more column to our dataframe \"id\", so then we will get two columns \"id\" and \"Reconstruction.MSE\":\n",
    "detect_anomly = anomly_model.anomaly(h2odf_test)\n",
    "detect_anomly = detect_anomly.as_data_frame()\n",
    "\n",
    "detect_anomly['id'] = detect_anomly.index"
   ]
  },
  {
   "cell_type": "markdown",
   "metadata": {},
   "source": [
    "#### 9.  Plotting the result of our test dataset"
   ]
  },
  {
   "cell_type": "code",
   "execution_count": 24,
   "metadata": {},
   "outputs": [
    {
     "data": {
      "image/png": "[encoded data removed]",
      "text/plain": [
       "<Figure size 432x288 with 1 Axes>"
      ]
     },
     "metadata": {
      "needs_background": "light"
     },
     "output_type": "display_data"
    }
   ],
   "source": [
    "plt.scatter(x=detect_anomly['id'],y=detect_anomly['Reconstruction.MSE'], c='r', alpha=0.5)\n",
    "plt.show()"
   ]
  },
  {
   "cell_type": "markdown",
   "metadata": {},
   "source": [
    "#### 10. Student H20 Server"
   ]
  },
  {
   "cell_type": "code",
   "execution_count": 25,
   "metadata": {},
   "outputs": [
    {
     "name": "stdout",
     "output_type": "stream",
     "text": [
      "H2O session _sid_a271 closed.\n"
     ]
    }
   ],
   "source": [
    "h2o.cluster().shutdown()"
   ]
  }
 ],
 "metadata": {
  "kernelspec": {
   "display_name": "Python 3",
   "language": "python",
   "name": "python3"
  },
  "language_info": {
   "codemirror_mode": {
    "name": "ipython",
    "version": 3
   },
   "file_extension": ".py",
   "mimetype": "text/x-python",
   "name": "python",
   "nbconvert_exporter": "python",
   "pygments_lexer": "ipython3",
   "version": "3.7.6"
  }
 },
 "nbformat": 4,
 "nbformat_minor": 4
}
