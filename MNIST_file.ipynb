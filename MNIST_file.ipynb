{
 "cells": [
  {
   "cell_type": "markdown",
   "metadata": {},
   "source": [
    "## Dataset : MNIST Number Dataset "
   ]
  },
  {
   "cell_type": "code",
   "execution_count": 3,
   "metadata": {},
   "outputs": [
    {
     "name": "stderr",
     "output_type": "stream",
     "text": [
      "Using TensorFlow backend.\n"
     ]
    }
   ],
   "source": [
    "import numpy as np\n",
    "import keras as K\n",
    "import matplotlib.pyplot as plt\n",
    "import os\n",
    "os.environ['TF_CPP_MIN_LOG_LEVEL']='2'  # suppress CPU msg"
   ]
  },
  {
   "cell_type": "markdown",
   "metadata": {},
   "source": [
    "#### Preprocessing :"
   ]
  },
  {
   "cell_type": "code",
   "execution_count": 4,
   "metadata": {},
   "outputs": [],
   "source": [
    "def display(raw_data_x, raw_data_y, idx):\n",
    "  label = raw_data_y[idx]  # like '5'\n",
    "  print(\"digit = \", str(label), \"\\n\")\n",
    "  pixels = np.array(raw_data_x[idx])  # target row of pixels\n",
    "  pixels = pixels.reshape((28,28))\n",
    "  plt.rcParams['toolbar'] = 'None' \n",
    "  plt.imshow(pixels, cmap=plt.get_cmap('gray_r'))\n",
    "  plt.show() "
   ]
  },
  {
   "cell_type": "code",
   "execution_count": 5,
   "metadata": {},
   "outputs": [],
   "source": [
    "class MyLogger(K.callbacks.Callback):\n",
    "  def __init__(self, n):\n",
    "    self.n = n   # print loss every n epochs\n",
    "\n",
    "  def on_epoch_end(self, epoch, logs={}):\n",
    "    if epoch % self.n == 0:\n",
    "      curr_loss =logs.get('loss')\n",
    "      print(\"epoch = %4d loss = %0.6f\" % (epoch, curr_loss))"
   ]
  },
  {
   "cell_type": "code",
   "execution_count": 6,
   "metadata": {},
   "outputs": [
    {
     "name": "stdout",
     "output_type": "stream",
     "text": [
      "Begin MNIST anomaly detect using an autoencoder \n"
     ]
    }
   ],
   "source": [
    "def main():\n",
    "  # 0. get started\n",
    "  print(\"Begin MNIST anomaly detect using an autoencoder \")\n",
    "  np.random.seed(1)  # not used\n",
    "\n",
    "  # 1. load data into memory\n",
    "  # 2. define autoencoder model\n",
    "  # 3. compile model\n",
    "  # 4. train model\n",
    "  # 5. save model\n",
    "  # 6. use model to find anomaly\n",
    "\n",
    "if __name__==\"__main__\":\n",
    "  main()"
   ]
  },
  {
   "cell_type": "markdown",
   "metadata": {},
   "source": [
    "#### Load the Dataset (1000 images from MNIST dataset)"
   ]
  },
  {
   "cell_type": "code",
   "execution_count": 7,
   "metadata": {},
   "outputs": [
    {
     "name": "stdout",
     "output_type": "stream",
     "text": [
      "Loading Keras version MNIST data into memory \n",
      "\n"
     ]
    }
   ],
   "source": [
    "# 1. load data\n",
    "print(\"Loading Keras version MNIST data into memory \\n\")\n",
    "data_file = \"mnist_keras_1000.txt\"\n",
    "data_x = np.loadtxt(data_file, delimiter=\" \",\n",
    "  usecols=range(2,786), dtype=np.float32)\n",
    "labels = np.loadtxt(data_file, delimiter=\" \",\n",
    "  usecols=[0], dtype=np.float32)\n",
    "norm_x = data_x / 255"
   ]
  },
  {
   "cell_type": "markdown",
   "metadata": {},
   "source": [
    "#### Defining the Autoencoder model (784-100-50-100-784 with tanh)"
   ]
  },
  {
   "cell_type": "code",
   "execution_count": 8,
   "metadata": {},
   "outputs": [
    {
     "name": "stdout",
     "output_type": "stream",
     "text": [
      "Creating a 784-100-50-100-784 autoencoder \n"
     ]
    }
   ],
   "source": [
    "# 2. define autoencoder model\n",
    "print(\"Creating a 784-100-50-100-784 autoencoder \")\n",
    "my_init = K.initializers.glorot_uniform(seed=1)\n",
    "autoenc = K.models.Sequential()\n",
    "autoenc.add(K.layers.Dense(input_dim=784, units=100, \n",
    "  activation='tanh', kernel_initializer=my_init))\n",
    "autoenc.add(K.layers.Dense(units=50, \n",
    "  activation='tanh', kernel_initializer=my_init))\n",
    "autoenc.add(K.layers.Dense(units=100, \n",
    "  activation='tanh', kernel_initializer=my_init)) \n",
    "autoenc.add(K.layers.Dense(units=784,\n",
    "  activation='tanh', kernel_initializer=my_init)) \n",
    "\n",
    "# 3. compile model\n",
    "simple_adam = K.optimizers.adam()  \n",
    "autoenc.compile(loss='mean_squared_error',\n",
    "  optimizer=simple_adam)"
   ]
  },
  {
   "cell_type": "markdown",
   "metadata": {},
   "source": [
    "#### Training the model with 400 epoches"
   ]
  },
  {
   "cell_type": "code",
   "execution_count": 9,
   "metadata": {},
   "outputs": [
    {
     "name": "stdout",
     "output_type": "stream",
     "text": [
      "Starting training\n",
      "epoch =    0 loss = 0.076969\n",
      "epoch =  100 loss = 0.012946\n",
      "epoch =  200 loss = 0.011671\n",
      "epoch =  300 loss = 0.010599\n",
      "Training complete\n"
     ]
    }
   ],
   "source": [
    "# 4. train model\n",
    "print(\"Starting training\")\n",
    "max_epochs = 400\n",
    "my_logger = MyLogger(n=100)\n",
    "h = autoenc.fit(norm_x, norm_x, batch_size=40, \n",
    "  epochs=max_epochs, verbose=0, callbacks=[my_logger])\n",
    "print(\"Training complete\")"
   ]
  },
  {
   "cell_type": "markdown",
   "metadata": {},
   "source": [
    "#### Finding the Anomaly :"
   ]
  },
  {
   "cell_type": "code",
   "execution_count": 10,
   "metadata": {},
   "outputs": [],
   "source": [
    "# 6. find most anomalous data item\n",
    "N = len(norm_x)\n",
    "max_se = 0.0; max_ix = 0\n",
    "predicteds = autoenc.predict(norm_x)\n",
    "for i in range(N):\n",
    "  diff = norm_x[i] - predicteds[i]\n",
    "  curr_se = np.sum(diff * diff)\n",
    "  if curr_se > max_se:\n",
    "    max_se = curr_se; max_ix = i"
   ]
  },
  {
   "cell_type": "markdown",
   "metadata": {},
   "source": [
    "#### Display:"
   ]
  },
  {
   "cell_type": "code",
   "execution_count": 11,
   "metadata": {},
   "outputs": [
    {
     "name": "stdout",
     "output_type": "stream",
     "text": [
      "Most anomalous digit is at index  149\n",
      "digit =  2 \n",
      "\n"
     ]
    },
    {
     "data": {
      "image/png": "[encoded data removed]",
      "text/plain": [
       "<Figure size 432x288 with 1 Axes>"
      ]
     },
     "metadata": {
      "needs_background": "light"
     },
     "output_type": "display_data"
    }
   ],
   "source": [
    "raw_data_x = data_x.astype(np.int)\n",
    "raw_data_y = labels.astype(np.int)\n",
    "print(\"Most anomalous digit is at index \", max_ix)\n",
    "display(raw_data_x, raw_data_y, max_ix)"
   ]
  }
 ],
 "metadata": {
  "kernelspec": {
   "display_name": "Python 3",
   "language": "python",
   "name": "python3"
  },
  "language_info": {
   "codemirror_mode": {
    "name": "ipython",
    "version": 3
   },
   "file_extension": ".py",
   "mimetype": "text/x-python",
   "name": "python",
   "nbconvert_exporter": "python",
   "pygments_lexer": "ipython3",
   "version": "3.7.6"
  }
 },
 "nbformat": 4,
 "nbformat_minor": 4
}
